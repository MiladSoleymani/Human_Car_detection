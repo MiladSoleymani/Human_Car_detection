{
 "cells": [
  {
   "cell_type": "code",
   "execution_count": 9,
   "id": "59ef4e97-a787-4c15-92ba-1d01a2af3c02",
   "metadata": {
    "tags": []
   },
   "outputs": [],
   "source": [
    "import cv2\n",
    "import numpy as np\n",
    "import time"
   ]
  },
  {
   "cell_type": "code",
   "execution_count": 10,
   "id": "c1e1a849-a33e-46df-a4e6-e2515f469d43",
   "metadata": {
    "tags": []
   },
   "outputs": [
    {
     "ename": "error",
     "evalue": "OpenCV(4.7.0) /io/opencv/modules/dnn/src/darknet/darknet_importer.cpp:210: error: (-212:Parsing error) Failed to open NetParameter file: path/to/yolov3.cfg in function 'readNetFromDarknet'\n",
     "output_type": "error",
     "traceback": [
      "\u001b[0;31m---------------------------------------------------------------------------\u001b[0m",
      "\u001b[0;31merror\u001b[0m                                     Traceback (most recent call last)",
      "Cell \u001b[0;32mIn[10], line 1\u001b[0m\n\u001b[0;32m----> 1\u001b[0m net \u001b[38;5;241m=\u001b[39m \u001b[43mcv2\u001b[49m\u001b[38;5;241;43m.\u001b[39;49m\u001b[43mdnn\u001b[49m\u001b[38;5;241;43m.\u001b[39;49m\u001b[43mreadNet\u001b[49m\u001b[43m(\u001b[49m\u001b[38;5;124;43m\"\u001b[39;49m\u001b[38;5;124;43mpath/to/yolov3.weights\u001b[39;49m\u001b[38;5;124;43m\"\u001b[39;49m\u001b[43m,\u001b[49m\u001b[43m \u001b[49m\u001b[38;5;124;43m\"\u001b[39;49m\u001b[38;5;124;43mpath/to/yolov3.cfg\u001b[39;49m\u001b[38;5;124;43m\"\u001b[39;49m\u001b[43m)\u001b[49m\n",
      "\u001b[0;31merror\u001b[0m: OpenCV(4.7.0) /io/opencv/modules/dnn/src/darknet/darknet_importer.cpp:210: error: (-212:Parsing error) Failed to open NetParameter file: path/to/yolov3.cfg in function 'readNetFromDarknet'\n"
     ]
    }
   ],
   "source": [
    "net = cv2.dnn.readNet(\"path/to/yolov3.weights\", \"path/to/yolov3.cfg\")"
   ]
  },
  {
   "cell_type": "code",
   "execution_count": 2,
   "id": "753ad589-91b7-46c8-bd0a-96d62ff55064",
   "metadata": {
    "tags": []
   },
   "outputs": [
    {
     "name": "stdout",
     "output_type": "stream",
     "text": [
      "< cv2.VideoCapture 0x7f32fc29ffd0>\n"
     ]
    }
   ],
   "source": [
    "import cv2\n",
    "import numpy as np\n",
    "import time\n",
    "\n",
    "# Load YOLO model\n",
    "net = cv2.dnn.readNet(\"path/to/yolov3.weights\", \"path/to/yolov3.cfg\")\n",
    "\n",
    "# Define classes to detect\n",
    "classes = []\n",
    "with open(\"path/to/coco.names\", \"r\") as f:\n",
    "    classes = [line.strip() for line in f.readlines()]\n",
    "\n",
    "# Set input size\n",
    "input_size = 416\n",
    "\n",
    "# Set minimum confidence threshold\n",
    "confidence_threshold = 0.5\n",
    "\n",
    "# Set non-maximum suppression threshold\n",
    "nms_threshold = 0.4\n",
    "\n",
    "# Open video stream\n",
    "cap = cv2.VideoCapture(\"path/to/highway_video.mp4\")\n",
    "\n",
    "# Initialize variables\n",
    "prev_frame_time = 0\n",
    "new_frame_time = 0\n",
    "prev_bbox = None\n",
    "prev_time = None\n",
    "speed = 0\n",
    "\n",
    "while True:\n",
    "    # Read a frame from the video stream\n",
    "    ret, frame = cap.read()\n",
    "\n",
    "    if ret:\n",
    "        # Get frame dimensions\n",
    "        height, width, _ = frame.shape\n",
    "\n",
    "        # Create blob from frame\n",
    "        blob = cv2.dnn.blobFromImage(frame, 1/255, (input_size, input_size), (0, 0, 0), swapRB=True, crop=False)\n",
    "\n",
    "        # Pass blob through network\n",
    "        net.setInput(blob)\n",
    "        layer_names = net.getLayerNames()\n",
    "        output_names = [layer_names[i[0] - 1] for i in net.getUnconnectedOutLayers()]\n",
    "        outputs = net.forward(output_names)\n",
    "\n",
    "        # Initialize lists for bounding boxes, confidences, and class IDs\n",
    "        boxes = []\n",
    "        confidences = []\n",
    "        class_ids = []\n",
    "\n",
    "        # Process outputs\n",
    "        for output in outputs:\n",
    "            for detection in output:\n",
    "                scores = detection[5:]\n",
    "                class_id = np.argmax(scores)\n",
    "                confidence = scores[class_id]\n",
    "                if confidence > confidence_threshold and classes[class_id] == 'car':\n",
    "                    center_x = int(detection[0] * width)\n",
    "                    center_y = int(detection[1] * height)\n",
    "                    w = int(detection[2] * width)\n",
    "                    h = int(detection[3] * height)\n",
    "                    x = int(center_x - w/2)\n",
    "                    y = int(center_y - h/2)\n",
    "                    boxes.append([x, y, w, h])\n",
    "                    confidences.append(float(confidence))\n",
    "                    class_ids.append(class_id)\n",
    "\n",
    "        # Apply non-maximum suppression\n",
    "        indices = cv2.dnn.NMSBoxes(boxes, confidences, confidence_threshold, nms_threshold)\n",
    "\n",
    "        # Calculate car speed\n",
    "        if prev_bbox is not None and indices is not None:\n",
    "            curr_bbox = None\n",
    "            curr_time = None\n",
    "            for i in indices:\n",
    "                i = i[0]\n",
    "                box = boxes[i]\n",
    "                x, y, w, h = box\n",
    "                if prev_bbox is not None and x <= prev_bbox[0] + prev_bbox[2] and x + w >= prev_bbox[0]:\n",
    "                    curr_bbox = box\n",
    "                    curr_time = time.time()\n",
    "                    break\n",
    "            if curr_bbox is not None and curr_time is not None and prev_time is not None:\n",
    "                dt = curr_time - prev_time\n",
    "                dx = curr_bbox[0] + curr_bbox[2]/2 - (prev_bbox[0] + prev_bbox[2]/2)\n",
    "                speed = dx / dt * 3.6 # convert to km/h\n",
    "            else:\n",
    "                speed = 0\n",
    "            prev_bbox = curr_bbox\n",
    "            prev_time = curr_time"
   ]
  }
 ],
 "metadata": {
  "kernelspec": {
   "display_name": "Python 3 (ipykernel)",
   "language": "python",
   "name": "python3"
  },
  "language_info": {
   "codemirror_mode": {
    "name": "ipython",
    "version": 3
   },
   "file_extension": ".py",
   "mimetype": "text/x-python",
   "name": "python",
   "nbconvert_exporter": "python",
   "pygments_lexer": "ipython3",
   "version": "3.8.10"
  }
 },
 "nbformat": 4,
 "nbformat_minor": 5
}
