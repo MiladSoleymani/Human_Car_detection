{
 "cells": [
  {
   "cell_type": "code",
   "execution_count": 1,
   "id": "b8cb2bcd",
   "metadata": {},
   "outputs": [
    {
     "ename": "ValueError",
     "evalue": "Authorized user info was not in the expected format, missing fields refresh_token.",
     "output_type": "error",
     "traceback": [
      "\u001b[0;31m---------------------------------------------------------------------------\u001b[0m",
      "\u001b[0;31mValueError\u001b[0m                                Traceback (most recent call last)",
      "Cell \u001b[0;32mIn[1], line 8\u001b[0m\n\u001b[1;32m      5\u001b[0m \u001b[38;5;28;01mfrom\u001b[39;00m \u001b[38;5;21;01mgoogleapiclient\u001b[39;00m\u001b[38;5;21;01m.\u001b[39;00m\u001b[38;5;21;01merrors\u001b[39;00m \u001b[38;5;28;01mimport\u001b[39;00m HttpError\n\u001b[1;32m      7\u001b[0m \u001b[38;5;66;03m# Replace with your own credentials\u001b[39;00m\n\u001b[0;32m----> 8\u001b[0m creds \u001b[38;5;241m=\u001b[39m \u001b[43mCredentials\u001b[49m\u001b[38;5;241;43m.\u001b[39;49m\u001b[43mfrom_authorized_user_file\u001b[49m\u001b[43m(\u001b[49m\u001b[38;5;124;43m'\u001b[39;49m\u001b[38;5;124;43mcredentials.json\u001b[39;49m\u001b[38;5;124;43m'\u001b[39;49m\u001b[43m)\u001b[49m\n\u001b[1;32m     10\u001b[0m \u001b[38;5;66;03m# Replace with the file ID of the video\u001b[39;00m\n\u001b[1;32m     11\u001b[0m file_id \u001b[38;5;241m=\u001b[39m \u001b[38;5;124m'\u001b[39m\u001b[38;5;124mINSERT_FILE_ID_HERE\u001b[39m\u001b[38;5;124m'\u001b[39m\n",
      "File \u001b[0;32m~/Human_Car_detection/environment/lib/python3.8/site-packages/google/oauth2/credentials.py:440\u001b[0m, in \u001b[0;36mCredentials.from_authorized_user_file\u001b[0;34m(cls, filename, scopes)\u001b[0m\n\u001b[1;32m    438\u001b[0m \u001b[38;5;28;01mwith\u001b[39;00m io\u001b[38;5;241m.\u001b[39mopen(filename, \u001b[38;5;124m\"\u001b[39m\u001b[38;5;124mr\u001b[39m\u001b[38;5;124m\"\u001b[39m, encoding\u001b[38;5;241m=\u001b[39m\u001b[38;5;124m\"\u001b[39m\u001b[38;5;124mutf-8\u001b[39m\u001b[38;5;124m\"\u001b[39m) \u001b[38;5;28;01mas\u001b[39;00m json_file:\n\u001b[1;32m    439\u001b[0m     data \u001b[38;5;241m=\u001b[39m json\u001b[38;5;241m.\u001b[39mload(json_file)\n\u001b[0;32m--> 440\u001b[0m     \u001b[38;5;28;01mreturn\u001b[39;00m \u001b[38;5;28;43mcls\u001b[39;49m\u001b[38;5;241;43m.\u001b[39;49m\u001b[43mfrom_authorized_user_info\u001b[49m\u001b[43m(\u001b[49m\u001b[43mdata\u001b[49m\u001b[43m,\u001b[49m\u001b[43m \u001b[49m\u001b[43mscopes\u001b[49m\u001b[43m)\u001b[49m\n",
      "File \u001b[0;32m~/Human_Car_detection/environment/lib/python3.8/site-packages/google/oauth2/credentials.py:390\u001b[0m, in \u001b[0;36mCredentials.from_authorized_user_info\u001b[0;34m(cls, info, scopes)\u001b[0m\n\u001b[1;32m    387\u001b[0m missing \u001b[38;5;241m=\u001b[39m keys_needed\u001b[38;5;241m.\u001b[39mdifference(six\u001b[38;5;241m.\u001b[39miterkeys(info))\n\u001b[1;32m    389\u001b[0m \u001b[38;5;28;01mif\u001b[39;00m missing:\n\u001b[0;32m--> 390\u001b[0m     \u001b[38;5;28;01mraise\u001b[39;00m \u001b[38;5;167;01mValueError\u001b[39;00m(\n\u001b[1;32m    391\u001b[0m         \u001b[38;5;124m\"\u001b[39m\u001b[38;5;124mAuthorized user info was not in the expected format, missing \u001b[39m\u001b[38;5;124m\"\u001b[39m\n\u001b[1;32m    392\u001b[0m         \u001b[38;5;124m\"\u001b[39m\u001b[38;5;124mfields \u001b[39m\u001b[38;5;132;01m{}\u001b[39;00m\u001b[38;5;124m.\u001b[39m\u001b[38;5;124m\"\u001b[39m\u001b[38;5;241m.\u001b[39mformat(\u001b[38;5;124m\"\u001b[39m\u001b[38;5;124m, \u001b[39m\u001b[38;5;124m\"\u001b[39m\u001b[38;5;241m.\u001b[39mjoin(missing))\n\u001b[1;32m    393\u001b[0m     )\n\u001b[1;32m    395\u001b[0m \u001b[38;5;66;03m# access token expiry (datetime obj); auto-expire if not saved\u001b[39;00m\n\u001b[1;32m    396\u001b[0m expiry \u001b[38;5;241m=\u001b[39m info\u001b[38;5;241m.\u001b[39mget(\u001b[38;5;124m\"\u001b[39m\u001b[38;5;124mexpiry\u001b[39m\u001b[38;5;124m\"\u001b[39m)\n",
      "\u001b[0;31mValueError\u001b[0m: Authorized user info was not in the expected format, missing fields refresh_token."
     ]
    }
   ],
   "source": [
    "import io\n",
    "import os\n",
    "from google.oauth2.credentials import Credentials\n",
    "from googleapiclient.discovery import build\n",
    "from googleapiclient.errors import HttpError\n",
    "\n",
    "# Replace with your own credentials\n",
    "creds = Credentials.from_authorized_user_file('credentials.json')\n",
    "\n",
    "# Replace with the file ID of the video\n",
    "file_id = 'INSERT_FILE_ID_HERE'\n",
    "\n",
    "# Replace with the path where you want to save the video\n",
    "save_path = 'INSERT_SAVE_PATH_HERE'\n",
    "\n",
    "# Create a Drive API client\n",
    "drive_service = build('drive', 'v3', credentials=creds)\n",
    "\n",
    "# Get the file metadata\n",
    "try:\n",
    "    file = drive_service.files().get(fileId=file_id).execute()\n",
    "except HttpError as error:\n",
    "    print(f'An error occurred: {error}')\n",
    "    file = None\n",
    "\n",
    "# Download the file content\n",
    "if file:\n",
    "    download_url = file.get('exportLinks').get('video/mp4')\n",
    "    if download_url:\n",
    "        resp = drive_service.files().export(fileId=file_id, mimeType='video/mp4').execute()\n",
    "        with io.BytesIO(resp) as fh:\n",
    "            with open(os.path.join(save_path, file['name']), 'wb') as f:\n",
    "                fh.seek(0)\n",
    "                f.write(fh.read())\n",
    "        print(f'The video was downloaded successfully to {save_path}!')\n",
    "    else:\n",
    "        print('The file does not have a video content.')\n",
    "else:\n",
    "    print('The file does not exist.')"
   ]
  }
 ],
 "metadata": {
  "kernelspec": {
   "display_name": "Python 3 (ipykernel)",
   "language": "python",
   "name": "python3"
  },
  "language_info": {
   "codemirror_mode": {
    "name": "ipython",
    "version": 3
   },
   "file_extension": ".py",
   "mimetype": "text/x-python",
   "name": "python",
   "nbconvert_exporter": "python",
   "pygments_lexer": "ipython3",
   "version": "3.8.10"
  }
 },
 "nbformat": 4,
 "nbformat_minor": 5
}
