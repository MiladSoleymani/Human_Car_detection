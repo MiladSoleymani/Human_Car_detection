{
 "cells": [
  {
   "cell_type": "code",
   "execution_count": 9,
   "id": "fb25e399-fb4d-4b94-a6dc-1b962223f6dc",
   "metadata": {
    "tags": []
   },
   "outputs": [
    {
     "name": "stdout",
     "output_type": "stream",
     "text": [
      "Cloning into 'yolov5'...\n",
      "remote: Enumerating objects: 15393, done.\u001b[K\n",
      "remote: Counting objects: 100% (24/24), done.\u001b[K\n",
      "remote: Compressing objects: 100% (18/18), done.\u001b[K\n",
      "remote: Total 15393 (delta 9), reused 16 (delta 6), pack-reused 15369\u001b[K\n",
      "Receiving objects: 100% (15393/15393), 14.37 MiB | 33.15 MiB/s, done.\n",
      "Resolving deltas: 100% (10519/10519), done.\n"
     ]
    }
   ],
   "source": [
    "!git clone https://github.com/ultralytics/yolov5.git"
   ]
  },
  {
   "cell_type": "code",
   "execution_count": 8,
   "id": "706242f3-7a5c-411d-b618-305dfe9f8574",
   "metadata": {
    "tags": []
   },
   "outputs": [
    {
     "ename": "ModuleNotFoundError",
     "evalue": "No module named 'utils'",
     "output_type": "error",
     "traceback": [
      "\u001b[0;31m---------------------------------------------------------------------------\u001b[0m",
      "\u001b[0;31mModuleNotFoundError\u001b[0m                       Traceback (most recent call last)",
      "Cell \u001b[0;32mIn[8], line 5\u001b[0m\n\u001b[1;32m      3\u001b[0m \u001b[38;5;28;01mimport\u001b[39;00m \u001b[38;5;21;01mtorch\u001b[39;00m\n\u001b[1;32m      4\u001b[0m \u001b[38;5;28;01mimport\u001b[39;00m \u001b[38;5;21;01mnumpy\u001b[39;00m \u001b[38;5;28;01mas\u001b[39;00m \u001b[38;5;21;01mnp\u001b[39;00m\n\u001b[0;32m----> 5\u001b[0m \u001b[38;5;28;01mfrom\u001b[39;00m \u001b[38;5;21;01mutils\u001b[39;00m\u001b[38;5;21;01m.\u001b[39;00m\u001b[38;5;21;01mgeneral\u001b[39;00m \u001b[38;5;28;01mimport\u001b[39;00m non_max_suppression\n\u001b[1;32m      7\u001b[0m \u001b[38;5;66;03m# Load the YOLOv5 object detection model\u001b[39;00m\n\u001b[1;32m      8\u001b[0m model \u001b[38;5;241m=\u001b[39m torch\u001b[38;5;241m.\u001b[39mhub\u001b[38;5;241m.\u001b[39mload(\u001b[38;5;124m'\u001b[39m\u001b[38;5;124multralytics/yolov5\u001b[39m\u001b[38;5;124m'\u001b[39m, \u001b[38;5;124m'\u001b[39m\u001b[38;5;124myolov5s\u001b[39m\u001b[38;5;124m'\u001b[39m, pretrained\u001b[38;5;241m=\u001b[39m\u001b[38;5;28;01mTrue\u001b[39;00m)\n",
      "\u001b[0;31mModuleNotFoundError\u001b[0m: No module named 'utils'"
     ]
    }
   ],
   "source": [
    "import cv2\n",
    "import pytesseract\n",
    "import torch\n",
    "import numpy as np\n",
    "from utils.general import non_max_suppression\n",
    "\n",
    "# Load the YOLOv5 object detection model\n",
    "model = torch.hub.load('ultralytics/yolov5', 'yolov5s', pretrained=True)\n",
    "\n",
    "# Load the image\n",
    "img = cv2.imread('topol.jpg')\n",
    "\n",
    "# Run the object detection model on the image\n",
    "results = model(img)\n",
    "\n",
    "# Filter the results to only include license plates\n",
    "# plates = results.pred[results.pred[:, -1] == 0]\n",
    "\n",
    "# # Apply non-maximum suppression to remove overlapping plates\n",
    "# plates = non_max_suppression(plates, conf_thres=0.5, iou_thres=0.5)\n",
    "\n",
    "# # Loop over the detected license plates\n",
    "# for plate in plates:\n",
    "#     # Extract the coordinates of the license plate\n",
    "#     x1, y1, x2, y2 = plate[:4].detach().numpy()\n",
    "    \n",
    "#     # Crop the license plate from the image\n",
    "#     plate_img = img[int(y1):int(y2), int(x1):int(x2)]\n",
    "    \n",
    "#     # Convert the license plate image to grayscale\n",
    "#     plate_gray = cv2.cvtColor(plate_img, cv2.COLOR_BGR2GRAY)\n",
    "    \n",
    "#     # Apply thresholding to the license plate image\n",
    "#     thresh = cv2.threshold(plate_gray, 0, 255, cv2.THRESH_BINARY_INV + cv2.THRESH_OTSU)[1]\n",
    "    \n",
    "#     # Extract the text from the license plate image using OCR\n",
    "#     plate_no = pytesseract.image_to_string(thresh, config='--psm 11')\n",
    "    \n",
    "#     # Draw a rectangle around the license plate in the original image\n",
    "#     cv2.rectangle(img, (int(x1), int(y1)), (int(x2), int(y2)), (0, 255, 0), 2)\n",
    "    \n",
    "#     # Draw the license plate number on the original image\n",
    "#     if plate_no:\n",
    "#         cv2.putText(img, plate_no.strip(), (int(x1), int(y1) - 10), cv2.FONT_HERSHEY_SIMPLEX, 1, (0, 255, 0), 2)\n",
    "\n",
    "# # Display the original image with the license plate number\n",
    "# cv2.imshow('License Plate Detection', img)\n",
    "# cv2.waitKey(0)\n",
    "# cv2.destroyAllWindows()"
   ]
  }
 ],
 "metadata": {
  "kernelspec": {
   "display_name": "Python 3 (ipykernel)",
   "language": "python",
   "name": "python3"
  },
  "language_info": {
   "codemirror_mode": {
    "name": "ipython",
    "version": 3
   },
   "file_extension": ".py",
   "mimetype": "text/x-python",
   "name": "python",
   "nbconvert_exporter": "python",
   "pygments_lexer": "ipython3",
   "version": "3.8.10"
  }
 },
 "nbformat": 4,
 "nbformat_minor": 5
}
